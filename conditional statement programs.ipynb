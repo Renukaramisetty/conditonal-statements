{
 "cells": [
  {
   "cell_type": "code",
   "execution_count": 1,
   "id": "77f7a2f5-6403-4ac7-aa82-dc6967ccc277",
   "metadata": {},
   "outputs": [
    {
     "name": "stdin",
     "output_type": "stream",
     "text": [
      " 5\n"
     ]
    },
    {
     "name": "stdout",
     "output_type": "stream",
     "text": [
      "5 is positive number)\n"
     ]
    }
   ],
   "source": [
    "# to check the number is positive or not\n",
    "num=int(input())\n",
    "if num>0:\n",
    "    print(f'{num} is positive number)')\n",
    "else:\n",
    "    print(f'{num} is not positive number)')\n",
    "    "
   ]
  },
  {
   "cell_type": "code",
   "execution_count": 6,
   "id": "fe436d92-5b17-432b-a3a1-616a032503db",
   "metadata": {},
   "outputs": [
    {
     "name": "stdin",
     "output_type": "stream",
     "text": [
      " 2\n"
     ]
    },
    {
     "name": "stdout",
     "output_type": "stream",
     "text": [
      "(2 is even number)\n"
     ]
    }
   ],
   "source": [
    "# to check the number is even or odd\n",
    "num=int(input())\n",
    "if num%2 ==0:\n",
    "     print(f'({num} is even number)')\n",
    "else:\n",
    "    print(f'({num} is odd number)')"
   ]
  },
  {
   "cell_type": "code",
   "execution_count": 9,
   "id": "8c9ff392-3765-4a6b-80f4-6e5ee61cc7b7",
   "metadata": {},
   "outputs": [
    {
     "name": "stdin",
     "output_type": "stream",
     "text": [
      " 3\n",
      " 1\n"
     ]
    },
    {
     "name": "stdout",
     "output_type": "stream",
     "text": [
      "(3 is greater number)\n"
     ]
    }
   ],
   "source": [
    "# find the greater of two numbers\n",
    "num1=int(input())\n",
    "num2=int(input())\n",
    "if num1>num2:\n",
    "    print(f'({num1} is greater number)')\n",
    "else:\n",
    "    print(f'({num2} is greater number)')\n",
    "    \n"
   ]
  },
  {
   "cell_type": "code",
   "execution_count": 2,
   "id": "0f12282e-1f51-4892-9421-f208bb1bc6de",
   "metadata": {},
   "outputs": [
    {
     "name": "stdin",
     "output_type": "stream",
     "text": [
      " 5\n",
      " 6\n",
      " 7\n"
     ]
    },
    {
     "name": "stdout",
     "output_type": "stream",
     "text": [
      "(7 is the largest number)\n"
     ]
    }
   ],
   "source": [
    "#check the largest among three numbers\n",
    "num1=int(input())\n",
    "num2=int(input())\n",
    "num3=int(input())\n",
    "if (num1>=num2) and (num1>=num3):\n",
    "    print(f'({num1} is the largest number)')\n",
    "elif(num2>=num1)and (num2>=num3):\n",
    "    print(f'({num1} is the largest number)')\n",
    "else:\n",
    "     print(f'({num3} is the largest number)')\n",
    "    "
   ]
  },
  {
   "cell_type": "code",
   "execution_count": 3,
   "id": "b0bf59ab-2163-4616-8433-004d7436ffa4",
   "metadata": {},
   "outputs": [
    {
     "name": "stdin",
     "output_type": "stream",
     "text": [
      " 55\n"
     ]
    },
    {
     "name": "stdout",
     "output_type": "stream",
     "text": [
      "55is disible by both 5 and 11.\n"
     ]
    }
   ],
   "source": [
    "#check the number is divisible by 5 and 11\n",
    "num=int(input())\n",
    "if (num%5==0)and (num%11==0):\n",
    "    print(f\"{num}is disible by both 5 and 11.\")\n",
    "elif num %5==0:\n",
    "    print(f\"{num}is disible by both 5 but not by 11.\")\n",
    "elif num %11==0:\n",
    "    print(f\"{num}is disible by 11 but not by 5 .\")\n",
    "else:\n",
    "    print(f\"{num}is neither divisible by 5 nor by 11.\")\n",
    "    "
   ]
  },
  {
   "cell_type": "code",
   "execution_count": 1,
   "id": "4f1a8a0b-ac7c-4629-885b-abebe6f5a24b",
   "metadata": {},
   "outputs": [
    {
     "name": "stdin",
     "output_type": "stream",
     "text": [
      " 2004\n"
     ]
    },
    {
     "name": "stdout",
     "output_type": "stream",
     "text": [
      "2004 is leap year\n"
     ]
    }
   ],
   "source": [
    "# check the year is  leap year or not\n",
    "year = int(input())\n",
    "if (year % 4 == 0 and year % 100 != 0) or (year % 400 == 0):\n",
    "    print(f\"{year} is leap year\")\n",
    "else:\n",
    "    print(f\"{year} is not leap year\")"
   ]
  },
  {
   "cell_type": "code",
   "execution_count": 4,
   "id": "6d2f1f59-1b98-425d-9219-f7f6ee916162",
   "metadata": {},
   "outputs": [
    {
     "name": "stdin",
     "output_type": "stream",
     "text": [
      " z\n"
     ]
    },
    {
     "name": "stdout",
     "output_type": "stream",
     "text": [
      "z is a consonent\n"
     ]
    }
   ],
   "source": [
    "# character is vowel or consonent\n",
    "v=['a','e','i','o','u','A','E','I','O','U']\n",
    "char = input()\n",
    "if char in v:\n",
    "    print(f'{char} is a vowel')\n",
    "else:\n",
    "     print(f'{char} is a consonent')\n",
    "    "
   ]
  },
  {
   "cell_type": "code",
   "execution_count": 8,
   "id": "c46c14b3-ae57-4527-9e22-6312bdbe94ff",
   "metadata": {},
   "outputs": [
    {
     "name": "stdin",
     "output_type": "stream",
     "text": [
      " 22\n"
     ]
    },
    {
     "name": "stdout",
     "output_type": "stream",
     "text": [
      "22 is not  a multiple of 3 or 7\n"
     ]
    }
   ],
   "source": [
    "#check the number is multiple of 3 or 7\n",
    "num=int(input())\n",
    "if num%3==0 or num%7==0:\n",
    "    print(f'{num} is a multiple of 3 or 7')\n",
    "else:\n",
    "     print(f'{num} is not  a multiple of 3 or 7')\n",
    "    "
   ]
  },
  {
   "cell_type": "code",
   "execution_count": 13,
   "id": "15ac2bef-0fde-43c7-b10a-ab2730067717",
   "metadata": {},
   "outputs": [
    {
     "name": "stdin",
     "output_type": "stream",
     "text": [
      " a\n"
     ]
    },
    {
     "name": "stdout",
     "output_type": "stream",
     "text": [
      "a is lower case\n"
     ]
    }
   ],
   "source": [
    "# to check the character is uppercse,lower case ,digit or special symbol\n",
    "char=input()\n",
    "if char.islower():\n",
    "    print(f'{char} is lower case')\n",
    "elif char.isupper():\n",
    "    print(f'{char} is upper case')\n",
    "elif char.isdigit():\n",
    "    print(f'{char} is a digit')\n",
    "else:\n",
    "    print(f'{char} is special symbol')\n",
    "    "
   ]
  },
  {
   "cell_type": "code",
   "execution_count": null,
   "id": "2fd027c6-7dfd-458c-80f6-0d27f5aa2e01",
   "metadata": {},
   "outputs": [],
   "source": []
  }
 ],
 "metadata": {
  "kernelspec": {
   "display_name": "Python 3 (ipykernel)",
   "language": "python",
   "name": "python3"
  },
  "language_info": {
   "codemirror_mode": {
    "name": "ipython",
    "version": 3
   },
   "file_extension": ".py",
   "mimetype": "text/x-python",
   "name": "python",
   "nbconvert_exporter": "python",
   "pygments_lexer": "ipython3",
   "version": "3.13.5"
  }
 },
 "nbformat": 4,
 "nbformat_minor": 5
}
